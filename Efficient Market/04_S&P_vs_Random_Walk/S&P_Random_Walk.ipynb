{
 "cells": [
  {
   "cell_type": "code",
   "execution_count": 271,
   "metadata": {},
   "outputs": [],
   "source": [
    "import random\n",
    "import numpy as np\n",
    "import pandas as pd\n",
    "import matplotlib.pyplot as plt\n",
    "import seaborn as sns"
   ]
  },
  {
   "cell_type": "code",
   "execution_count": null,
   "metadata": {},
   "outputs": [],
   "source": [
    "# S&P Composite index from 1871 to 2022\n",
    "df = pd.read_csv('S&P_1871_2022.csv')\n",
    "df.Date = df.Date.astype('str').str.replace('.', '/', regex=False)\n",
    "df = df.set_index('Date')"
   ]
  },
  {
   "cell_type": "code",
   "execution_count": null,
   "metadata": {},
   "outputs": [],
   "source": []
  },
  {
   "cell_type": "code",
   "execution_count": 264,
   "metadata": {},
   "outputs": [],
   "source": [
    "T = df.shape[0]\n",
    "P0 = df.iloc[0, 0]\n",
    "mu = 0.001\n",
    "\n",
    "last_p = np.log(P0)\n",
    "log_returns = np.zeros(T)\n",
    "prices = np.zeros(T)\n",
    "\n",
    "for t in range(T):\n",
    "    r = 0.05 * np.random.randn()\n",
    "    p = last_p + mu + r\n",
    "    log_returns[t] = r + mu\n",
    "    prices[t] = np.exp(p)\n",
    "    last_p = p\n",
    "\n",
    "df['RW'] = prices\n",
    "df['p_log'] = np.log(df.P)\n",
    "df['rw_log'] = np.log(df.RW)"
   ]
  },
  {
   "cell_type": "code",
   "execution_count": 279,
   "metadata": {},
   "outputs": [],
   "source": [
    "ax = df[['p_log', 'rw_log']].plot(figsize=(20,9), color=['#30445C', 'r'])\n",
    "ax.legend(['S&P', 'Random Walk'])\n",
    "plt.ylabel('ln(real price) or random walk with trend')\n",
    "ax.figure.savefig('S&P_Random_Walk.png', format='png',  dpi=400)\n",
    "plt.close()"
   ]
  },
  {
   "cell_type": "code",
   "execution_count": null,
   "metadata": {},
   "outputs": [],
   "source": []
  }
 ],
 "metadata": {
  "interpreter": {
   "hash": "b0fa6594d8f4cbf19f97940f81e996739fb7646882a419484c72d19e05852a7e"
  },
  "kernelspec": {
   "display_name": "Python 3.9.10 64-bit",
   "language": "python",
   "name": "python3"
  },
  "language_info": {
   "codemirror_mode": {
    "name": "ipython",
    "version": 3
   },
   "file_extension": ".py",
   "mimetype": "text/x-python",
   "name": "python",
   "nbconvert_exporter": "python",
   "pygments_lexer": "ipython3",
   "version": "3.9.10"
  },
  "orig_nbformat": 4
 },
 "nbformat": 4,
 "nbformat_minor": 2
}
