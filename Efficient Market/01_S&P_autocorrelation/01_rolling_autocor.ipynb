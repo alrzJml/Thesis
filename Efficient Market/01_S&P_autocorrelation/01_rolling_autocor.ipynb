{
 "cells": [
  {
   "cell_type": "code",
   "execution_count": null,
   "metadata": {},
   "outputs": [],
   "source": [
    "import pandas as pd\n",
    "import matplotlib.pyplot as plt"
   ]
  },
  {
   "cell_type": "code",
   "execution_count": 91,
   "metadata": {},
   "outputs": [],
   "source": [
    "# S&P Composite index from 1871 to 2022\n",
    "df = pd.read_csv('01_GSPTSE.csv')\n",
    "df.Date = df.Date.astype('str').str.replace('.', '/', regex=False)\n",
    "df = df.set_index('Date')"
   ]
  },
  {
   "cell_type": "code",
   "execution_count": 92,
   "metadata": {},
   "outputs": [],
   "source": [
    "df_return = df.pct_change()\n",
    "df_ans = df_return['P'].rolling(5*12).apply(lambda x: pd.Series(x).autocorr(-1))"
   ]
  },
  {
   "cell_type": "code",
   "execution_count": 99,
   "metadata": {},
   "outputs": [],
   "source": [
    "ax = df_ans.dropna().plot(figsize=(20,9), kind='bar', width=1.0, color='#30445C');\n",
    "plt.xticks(rotation=45)\n",
    "axis_font = {'fontname':'Arial', 'size':'16'}\n",
    "plt.xlabel('Month', **axis_font)\n",
    "plt.ylabel('Serial Correlation', **axis_font)\n",
    "for i, t in enumerate(ax.get_xticklabels()):\n",
    "    if (i % 60) != 0:\n",
    "        t.set_visible(False)\n",
    "ax.figure.savefig('01_S&P_rolling_autocorr.png', format='png',  dpi=400)\n",
    "plt.close()"
   ]
  }
 ],
 "metadata": {
  "interpreter": {
   "hash": "aee8b7b246df8f9039afb4144a1f6fd8d2ca17a180786b69acc140d282b71a49"
  },
  "kernelspec": {
   "display_name": "Python 3.9.7 64-bit",
   "language": "python",
   "name": "python3"
  },
  "language_info": {
   "codemirror_mode": {
    "name": "ipython",
    "version": 3
   },
   "file_extension": ".py",
   "mimetype": "text/x-python",
   "name": "python",
   "nbconvert_exporter": "python",
   "pygments_lexer": "ipython3",
   "version": "3.9.7"
  },
  "orig_nbformat": 4
 },
 "nbformat": 4,
 "nbformat_minor": 2
}
