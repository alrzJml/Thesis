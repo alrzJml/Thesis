{
 "cells": [
  {
   "cell_type": "code",
   "execution_count": null,
   "metadata": {},
   "outputs": [],
   "source": [
    "import pandas as pd\n",
    "import matplotlib.pyplot as plt"
   ]
  },
  {
   "cell_type": "code",
   "execution_count": 40,
   "metadata": {},
   "outputs": [],
   "source": [
    "# S&P Composite index from 1871 to 2022\n",
    "df = pd.read_excel('02_TEDPIX-2001-2022.xlsx')\n",
    "df.drop('date_jalali', axis=1, inplace=True)\n",
    "df = df.set_index('date_greg')"
   ]
  },
  {
   "cell_type": "code",
   "execution_count": 45,
   "metadata": {},
   "outputs": [],
   "source": [
    "df.index = pd.to_datetime(df.index)\n",
    "df = df.pct_change()\n",
    "df_monthly = df.resample('M').agg(lambda x: (x + 1).prod() - 1)"
   ]
  },
  {
   "cell_type": "code",
   "execution_count": 51,
   "metadata": {},
   "outputs": [],
   "source": [
    "# df_return = df_monthly.pct_change()\n",
    "df_ans = df_monthly['P'].rolling(5*12).apply(lambda x: pd.Series(x).autocorr(-1))"
   ]
  },
  {
   "cell_type": "code",
   "execution_count": 53,
   "metadata": {},
   "outputs": [],
   "source": [
    "ax = df_ans.dropna().plot(figsize=(20,9), kind='bar', width=1.0, color='#30445C');\n",
    "plt.xticks(rotation=45)\n",
    "ax.set_xticklabels([x.strftime(\"%Y-%m\") for x in df_ans.dropna().index], rotation=45)\n",
    "axis_font = {'fontname':'Arial', 'size':'16'}\n",
    "plt.xlabel('Month', **axis_font)\n",
    "plt.ylabel('Serial Correlation', **axis_font)\n",
    "for i, t in enumerate(ax.get_xticklabels()):\n",
    "    if (i % 5*12) != 0:\n",
    "        t.set_visible(False)\n",
    "ax.figure.savefig('02_TEDPIX_rolling_autocorr.png', format='png',  dpi=400)\n",
    "plt.title('TEDPIX')\n",
    "plt.close()"
   ]
  },
  {
   "cell_type": "code",
   "execution_count": 24,
   "metadata": {},
   "outputs": [
    {
     "data": {
      "text/plain": [
       "5045"
      ]
     },
     "execution_count": 24,
     "metadata": {},
     "output_type": "execute_result"
    }
   ],
   "source": [
    "i"
   ]
  },
  {
   "cell_type": "code",
   "execution_count": null,
   "metadata": {},
   "outputs": [],
   "source": []
  }
 ],
 "metadata": {
  "interpreter": {
   "hash": "aee8b7b246df8f9039afb4144a1f6fd8d2ca17a180786b69acc140d282b71a49"
  },
  "kernelspec": {
   "display_name": "Python 3.9.7 64-bit",
   "language": "python",
   "name": "python3"
  },
  "language_info": {
   "codemirror_mode": {
    "name": "ipython",
    "version": 3
   },
   "file_extension": ".py",
   "mimetype": "text/x-python",
   "name": "python",
   "nbconvert_exporter": "python",
   "pygments_lexer": "ipython3",
   "version": "3.9.7"
  },
  "orig_nbformat": 4
 },
 "nbformat": 4,
 "nbformat_minor": 2
}
